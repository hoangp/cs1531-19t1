{
 "cells": [
  {
   "cell_type": "code",
   "execution_count": 1,
   "metadata": {},
   "outputs": [],
   "source": [
    "from abc import ABC, abstractmethod\n",
    "\n",
    "class Shape(ABC):\n",
    "    def __init__(self, name, color):\n",
    "        self._name = name\n",
    "        self._color = color\n",
    "\n",
    "    @property\n",
    "    def name(self):\n",
    "        return self._name\n",
    "    \n",
    "    @property\n",
    "    def color(self):\n",
    "        return self._color\n",
    "    \n",
    "    @abstractmethod\n",
    "    def area(self):\n",
    "        pass\n",
    "    \n",
    "    @abstractmethod\n",
    "    def scale(self, ratio):\n",
    "        pass\n",
    "    \n",
    "    def __str__(self):\n",
    "        return f\"{self.color} {self.name} has area = {self.area()}\"\n",
    "\n",
    "    \n",
    "class Rectangle(Shape):\n",
    "    def __init__(self, color, width, height):\n",
    "        super().__init__(\"Rectangle\", color)\n",
    "        self._width = width\n",
    "        self._height = height\n",
    "     \n",
    "    @property\n",
    "    def width(self):\n",
    "        return self._width\n",
    "    \n",
    "    @property\n",
    "    def height(self):\n",
    "        return self._height\n",
    "        \n",
    "    def area(self):\n",
    "        return self._width * self._height\n",
    "    \n",
    "    def scale(self, ratio):\n",
    "        self._width *= ratio\n",
    "        self._height *= ratio\n",
    "    \n",
    "    \n",
    "class Triangle(Shape):\n",
    "    def __init__(self, color, base, height):\n",
    "        super().__init__(\"Triangle\", color)\n",
    "        self._base = base\n",
    "        self._height = height\n",
    "        \n",
    "    @property\n",
    "    def base(self):\n",
    "        return self._base\n",
    "    \n",
    "    @property\n",
    "    def height(self):\n",
    "        return self._height\n",
    "        \n",
    "    def area(self):\n",
    "        return 0.5*(self._base * self._height)\n",
    "    \n",
    "    def scale(self, ratio):\n",
    "        self._base *= ratio\n",
    "        self._height *= ratio\n",
    "        \n",
    "        \n",
    "class Circle(Shape):\n",
    "    def __init__(self, color, radius):\n",
    "        super().__init__(\"Circle\", color)\n",
    "        self._radius = radius\n",
    "        \n",
    "    @property\n",
    "    def radius(self):\n",
    "        return self._radius\n",
    "        \n",
    "    def area(self):\n",
    "        from math import pi\n",
    "        return pi * self._radius ** 2\n",
    "    \n",
    "    def scale(self, ratio):\n",
    "        self._radius *= ratio"
   ]
  },
  {
   "cell_type": "code",
   "execution_count": 2,
   "metadata": {},
   "outputs": [
    {
     "name": "stdout",
     "output_type": "stream",
     "text": [
      "Blue Circle has area = 50.26548245743669\n",
      "Blue Circle has area = 5026.548245743669\n"
     ]
    }
   ],
   "source": [
    "r1 = Rectangle('Blue', 2, 3)\n",
    "c1 = Circle('Blue',4)\n",
    "print(c1)\n",
    "c1.scale(10)\n",
    "print(c1)"
   ]
  },
  {
   "cell_type": "code",
   "execution_count": 3,
   "metadata": {},
   "outputs": [
    {
     "name": "stdout",
     "output_type": "stream",
     "text": [
      "division by zero\n"
     ]
    }
   ],
   "source": [
    "def divide(a,b):\n",
    "    try:\n",
    "        return a/b\n",
    "    except ZeroDivisionError as e:\n",
    "        print(e)\n",
    "\n",
    "divide(3,0)"
   ]
  },
  {
   "cell_type": "code",
   "execution_count": 4,
   "metadata": {},
   "outputs": [
    {
     "name": "stdout",
     "output_type": "stream",
     "text": [
      "Withdraw 1000 successful. Remaining balance = 9000\n",
      "Exceed daily withdraw limit. Withdraw 2000 unsuccessful. Remaining balance = 9000\n",
      "Negative amount. Withdraw -1 unsuccessful. Remaining balance = 9000\n",
      "Insufficient balance. Withdraw 10000 unsuccessful. Remaining balance = 9000\n"
     ]
    }
   ],
   "source": [
    "WITHDRAW_LIMIT = 2000\n",
    "\n",
    "class WithdrawException(Exception):\n",
    "    pass\n",
    "\n",
    "class BankAccount:\n",
    "    def __init__(self, name, balance):\n",
    "        self._name = name\n",
    "        self._balance = balance\n",
    "        self._today_withdraw = 0\n",
    "        \n",
    "    @property\n",
    "    def balance(self):\n",
    "        return self._balance\n",
    "    \n",
    "    def withdraw(self, amount):\n",
    "        if amount < 0:\n",
    "            #return False\n",
    "            raise WithdrawException(\"Negative amount.\")\n",
    "        if amount > self._balance:\n",
    "            #return False\n",
    "            raise WithdrawException(\"Insufficient balance.\")\n",
    "        if self._today_withdraw + amount > WITHDRAW_LIMIT:\n",
    "            #return False\n",
    "            raise WithdrawException(\"Exceed daily withdraw limit.\")\n",
    "        \n",
    "        self._balance -= amount\n",
    "        self._today_withdraw += amount\n",
    "\n",
    "# client.py\n",
    "a = BankAccount(\"Steven\", 10000)\n",
    "test_amounts = [1000, 2000, -1, 10000]\n",
    "for amount in test_amounts:\n",
    "    try:\n",
    "        a.withdraw(amount)\n",
    "        print(f\"Withdraw {amount} successful. Remaining balance = {a.balance}\")\n",
    "    except WithdrawException as e:\n",
    "        print(e, f\"Withdraw {amount} unsuccessful. Remaining balance = {a.balance}\")"
   ]
  },
  {
   "cell_type": "code",
   "execution_count": null,
   "metadata": {},
   "outputs": [],
   "source": []
  }
 ],
 "metadata": {
  "kernelspec": {
   "display_name": "Python 3",
   "language": "python",
   "name": "python3"
  },
  "language_info": {
   "codemirror_mode": {
    "name": "ipython",
    "version": 3
   },
   "file_extension": ".py",
   "mimetype": "text/x-python",
   "name": "python",
   "nbconvert_exporter": "python",
   "pygments_lexer": "ipython3",
   "version": "3.7.2"
  }
 },
 "nbformat": 4,
 "nbformat_minor": 2
}
