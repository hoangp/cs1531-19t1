{
 "cells": [
  {
   "cell_type": "code",
   "execution_count": 1,
   "metadata": {},
   "outputs": [],
   "source": [
    "# class Rectangle (from tutorial)\n",
    "class Rectangle:\n",
    "    def __init__(self, width, height):\n",
    "        self._width = width\n",
    "        self._height = height\n",
    "        \n",
    "    @property\n",
    "    def width(self):\n",
    "        return self._width\n",
    "    \n",
    "    @width.setter\n",
    "    def width(self, width):\n",
    "        self._width = width\n",
    "        \n",
    "    def get_height(self):\n",
    "        return self._height\n",
    "    \n",
    "    def set_height(self, height):\n",
    "        self._height = height\n",
    "        \n",
    "    def area(self):\n",
    "        return self._height * self._width\n",
    "    \n",
    "    def __repr__(self):\n",
    "        return f\"Rectangle ({self._width},{self._height})\"\n",
    "    \n",
    "    def __str__(self):\n",
    "        return \"Rectangle with area {0}\".format(self.area())"
   ]
  },
  {
   "cell_type": "code",
   "execution_count": 2,
   "metadata": {},
   "outputs": [
    {
     "name": "stdout",
     "output_type": "stream",
     "text": [
      "Rectangle (4,3)\n",
      "Rectangle with area 12\n"
     ]
    }
   ],
   "source": [
    "r1 = Rectangle(2,3)\n",
    "\n",
    "# getter\n",
    "w = r1.width\n",
    "\n",
    "# setter\n",
    "r1.width = 4\n",
    "\n",
    "# __str__ vs __repr__\n",
    "print(repr(r1))\n",
    "print(r1)"
   ]
  },
  {
   "cell_type": "code",
   "execution_count": 3,
   "metadata": {},
   "outputs": [],
   "source": [
    "# Inheritance / Abstract class\n",
    "\n",
    "from abc import ABC, abstractmethod\n",
    "\n",
    "class Shape(ABC):\n",
    "    def __init__(self, name, color):\n",
    "        self._name = name\n",
    "        self._color = color\n",
    "\n",
    "    @property\n",
    "    def name(self):\n",
    "        return self._name\n",
    "    \n",
    "    @property\n",
    "    def color(self):\n",
    "        return self._color\n",
    "    \n",
    "    @abstractmethod\n",
    "    def area(self):\n",
    "        return 0\n",
    "    \n",
    "    def __str__(self):\n",
    "        return f\"{self.color} {self.name} has area = {self.area()}\"\n",
    "\n",
    "    \n",
    "class Rectangle(Shape):\n",
    "    def __init__(self, color, width, height):\n",
    "        super().__init__(\"Rectangle\", color)\n",
    "        self._width = width\n",
    "        self._height = height\n",
    "        \n",
    "    def area(self):\n",
    "        return self._width * self._height\n",
    "    \n",
    "    \n",
    "class Triangle(Shape):\n",
    "    def __init__(self, color, base, height):\n",
    "        super().__init__(\"Triangle\", color)\n",
    "        self._base = base\n",
    "        self._height = height\n",
    "        \n",
    "    def area(self):\n",
    "        return 0.5*(self._base * self._height)"
   ]
  },
  {
   "cell_type": "code",
   "execution_count": 4,
   "metadata": {},
   "outputs": [
    {
     "name": "stdout",
     "output_type": "stream",
     "text": [
      "Blue Rectangle has area = 6\n",
      "Red Triangle has area = 3.0\n"
     ]
    }
   ],
   "source": [
    "r1 = Rectangle('Blue', 2, 3)\n",
    "t1 = Triangle('Red', 2, 3)\n",
    "print(r1)\n",
    "print(t1)"
   ]
  },
  {
   "cell_type": "code",
   "execution_count": 5,
   "metadata": {},
   "outputs": [],
   "source": [
    "# Association / Aggregation / Composition  \n",
    "class CarBookingSystem:\n",
    "    def __init__(self):\n",
    "        self._cars = []\n",
    "        self._bookings = []\n",
    "        \n",
    "    def add_car(self, model, reg):\n",
    "        car = Car(model, reg)\n",
    "        self._cars.append(car) # Composition\n",
    "        \n",
    "    def add_booking(self, booking):\n",
    "        self._bookings.append(booking) # Aggregation\n",
    "    \n",
    "    def get_customer_bookings(self, customer): # Association\n",
    "        bookings = []\n",
    "        for booking in self._bookings:\n",
    "            if booking.customer == customer:\n",
    "                bookings.append(booking)\n",
    "        return bookings"
   ]
  },
  {
   "cell_type": "code",
   "execution_count": null,
   "metadata": {},
   "outputs": [],
   "source": []
  }
 ],
 "metadata": {
  "kernelspec": {
   "display_name": "Python 3",
   "language": "python",
   "name": "python3"
  },
  "language_info": {
   "codemirror_mode": {
    "name": "ipython",
    "version": 3
   },
   "file_extension": ".py",
   "mimetype": "text/x-python",
   "name": "python",
   "nbconvert_exporter": "python",
   "pygments_lexer": "ipython3",
   "version": "3.7.2"
  }
 },
 "nbformat": 4,
 "nbformat_minor": 2
}
