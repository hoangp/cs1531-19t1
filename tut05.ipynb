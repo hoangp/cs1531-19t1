{
 "cells": [
  {
   "cell_type": "code",
   "execution_count": 1,
   "metadata": {},
   "outputs": [],
   "source": [
    "# class Rectangle (from tutorial)\n",
    "class Rectangle:\n",
    "    def __init__(self, width, height):\n",
    "        self._width = width\n",
    "        self._height = height\n",
    "    @property\n",
    "    def width(self):\n",
    "        return self._width\n",
    "    @width.setter\n",
    "    def width(self, width):\n",
    "        self._width = width\n",
    "    def get_height(self):\n",
    "        return self._height\n",
    "    def set_height(self, height):\n",
    "        self._height = height\n",
    "    def area(self):\n",
    "        return self._height * self._width\n",
    "    def __repr__(self):\n",
    "        return f\"Rectangle ({self._width},{self._height})\"\n",
    "    def __str__(self):\n",
    "        return \"Rectangle with area {0}\".format(self.area())"
   ]
  },
  {
   "cell_type": "code",
   "execution_count": 2,
   "metadata": {},
   "outputs": [
    {
     "name": "stdout",
     "output_type": "stream",
     "text": [
      "Rectangle (4,3)\n"
     ]
    }
   ],
   "source": [
    "r1 = Rectangle(2,3)\n",
    "# getter\n",
    "w = r1.width\n",
    "# setter\n",
    "r1.width = 4\n",
    "# print the string representation of the object\n",
    "# __str__ vs __repr__\n",
    "print(repr(r1))"
   ]
  },
  {
   "cell_type": "code",
   "execution_count": 3,
   "metadata": {},
   "outputs": [],
   "source": [
    "# Inheritance: Shape(name, color) <- Rectangle\n",
    "from abc import ABC, abstractmethod\n",
    "class Shape(ABC):\n",
    "    def __init__(self, name, color):\n",
    "        self._name = name\n",
    "        self._color = color\n",
    "    @property\n",
    "    def name(self):\n",
    "        return self._name\n",
    "    @property\n",
    "    def color(self):\n",
    "        return self._color\n",
    "    @abstractmethod\n",
    "    def calc_area(self):\n",
    "        return 0\n",
    "    def __str__(self):\n",
    "        return f\"{self.color} {self.name} has area = {self.calc_area()}\"\n",
    "\n",
    "class Rectangle(Shape):\n",
    "    def __init__(self, name, color, width, height):\n",
    "        super().__init__(name, color)\n",
    "        self._width = width\n",
    "        self._height = height\n",
    "    def calc_area(self):\n",
    "        return self._width * self._height\n",
    "    \n",
    "class Triangle(Shape):\n",
    "    def __init__(self, name, color, base, height):\n",
    "        super().__init__(name, color)\n",
    "        self._base = base\n",
    "        self._height = height\n",
    "    def calc_area(self):\n",
    "        return 0.5*(self._base * self._height)\n",
    "    "
   ]
  },
  {
   "cell_type": "code",
   "execution_count": 4,
   "metadata": {},
   "outputs": [
    {
     "name": "stdout",
     "output_type": "stream",
     "text": [
      "Blue Rectangle has area = 6\n",
      "Red Triangle has area = 3.0\n"
     ]
    }
   ],
   "source": [
    "r1 = Rectangle('Rectangle','Blue', 2, 3)\n",
    "t1 = Triangle('Triangle','Red', 2, 3)\n",
    "print(r1)\n",
    "print(t1)"
   ]
  },
  {
   "cell_type": "code",
   "execution_count": 5,
   "metadata": {},
   "outputs": [],
   "source": [
    "# Association / Aggregation / Composition\n",
    "# class CarBookingSystem: contains cars and bookings\n",
    "class Car:\n",
    "    def __init__(self, model, reg):\n",
    "        self._model = model\n",
    "        self._reg = reg\n",
    "        \n",
    "class Booking:\n",
    "    def __init__(self, customer, car):\n",
    "        self._customer = customer\n",
    "        self._car = car\n",
    "    @property\n",
    "    def customer(self):\n",
    "        return self._customer\n",
    "\n",
    "class CarBookingSystem:\n",
    "    def __init__(self):\n",
    "        self._cars = []\n",
    "        self._bookings = []\n",
    "        \n",
    "    def add_car(self, model, reg):\n",
    "        car = Car(model, reg)\n",
    "        self._cars.append(car) # Composition\n",
    "        \n",
    "    def add_booking(self, booking):\n",
    "        self._bookings.append(booking) # Aggregation\n",
    "    \n",
    "    def get_customer_bookings(self, customer): # Association\n",
    "        bookings = []\n",
    "        for booking in self._bookings:\n",
    "            if booking.customer == customer:\n",
    "                bookings.append(booking)\n",
    "        return bookings        "
   ]
  },
  {
   "cell_type": "code",
   "execution_count": null,
   "metadata": {},
   "outputs": [],
   "source": []
  }
 ],
 "metadata": {
  "kernelspec": {
   "display_name": "Python 3",
   "language": "python",
   "name": "python3"
  },
  "language_info": {
   "codemirror_mode": {
    "name": "ipython",
    "version": 3
   },
   "file_extension": ".py",
   "mimetype": "text/x-python",
   "name": "python",
   "nbconvert_exporter": "python",
   "pygments_lexer": "ipython3",
   "version": "3.7.2"
  }
 },
 "nbformat": 4,
 "nbformat_minor": 2
}
